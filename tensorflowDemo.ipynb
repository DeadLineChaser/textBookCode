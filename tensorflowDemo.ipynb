{
 "cells": [
  {
   "cell_type": "code",
   "execution_count": 1,
   "id": "8bc5c9a8",
   "metadata": {},
   "outputs": [],
   "source": [
    "import tensorflow as tf\n",
    "import matplotlib.pyplot as plt\n",
    "import numpy as np\n",
    "tf.random.set_seed(42)"
   ]
  },
  {
   "cell_type": "code",
   "execution_count": 2,
   "id": "a219aeba",
   "metadata": {},
   "outputs": [],
   "source": [
    "mnist=tf.keras.datasets.mnist\n",
    "(train_images,train_labels),(test_images,test_labels)=mnist.load_data()"
   ]
  },
  {
   "cell_type": "code",
   "execution_count": 3,
   "id": "86131d4f",
   "metadata": {},
   "outputs": [],
   "source": [
    "train_images = train_images.reshape(-1, 28, 28, 1).astype('float32') / 255.0\n",
    "test_images = test_images.reshape(-1, 28, 28, 1).astype('float32') / 255.0"
   ]
  },
  {
   "cell_type": "code",
   "execution_count": 4,
   "id": "f0812ab8",
   "metadata": {},
   "outputs": [
    {
     "name": "stdout",
     "output_type": "stream",
     "text": [
      "train_images.shape：(60000, 28, 28, 1)，train_labels.shape:(60000,)\n",
      "test_images.shape：(10000, 28, 28, 1)，test_images.shape:(10000,)\n"
     ]
    }
   ],
   "source": [
    "print(f'train_images.shape：{train_images.shape}，train_labels.shape:{train_labels.shape}')\n",
    "print(f'test_images.shape：{test_images.shape}，test_images.shape:{test_labels.shape}')"
   ]
  },
  {
   "cell_type": "code",
   "execution_count": 5,
   "id": "554a131b",
   "metadata": {},
   "outputs": [],
   "source": [
    "def lenet5_for_mnist():\n",
    "    model = tf.keras.Sequential()\n",
    "\n",
    "    # 由于图像大小为 28x28，这里调整第一层卷积层的参数\n",
    "    model.add(tf.keras.layers.Conv2D(filters=6, kernel_size=(5, 5), activation='tanh', padding='same',input_shape=(28, 28,1)))\n",
    "\n",
    "    # 第二层：下采样层 S2\n",
    "    model.add(tf.keras.layers.AveragePooling2D(pool_size=(2, 2)))\n",
    "\n",
    "    # 第三层：卷积层 C3\n",
    "    model.add(tf.keras.layers.Conv2D(filters=16, kernel_size=(5, 5), activation='tanh'))\n",
    "\n",
    "    # 第四层：下采样层 S4\n",
    "    model.add(tf.keras.layers.AveragePooling2D(pool_size=(2, 2)))\n",
    "\n",
    "    # 第五层：卷积层 C5\n",
    "    model.add(tf.keras.layers.Conv2D(filters=120, kernel_size=(5, 5), activation='tanh'))\n",
    "\n",
    "    # 将卷积层的输出展平为一维向量\n",
    "    model.add(tf.keras.layers.Flatten())\n",
    "\n",
    "    # 第六层：全连接层 F6\n",
    "    model.add(tf.keras.layers.Dense(84, activation='tanh'))\n",
    "\n",
    "    # 第七层：输出层\n",
    "    model.add(tf.keras.layers.Dense(10, activation='softmax'))\n",
    "\n",
    "    return model"
   ]
  },
  {
   "cell_type": "code",
   "execution_count": 6,
   "id": "c060aa3c",
   "metadata": {},
   "outputs": [
    {
     "name": "stdout",
     "output_type": "stream",
     "text": [
      "Epoch 1/10\n",
      "1500/1500 [==============================] - 14s 5ms/step - loss: 0.4455 - accuracy: 0.8659 - val_loss: 0.1167 - val_accuracy: 0.9657\n",
      "Epoch 2/10\n",
      "1500/1500 [==============================] - 7s 5ms/step - loss: 0.1047 - accuracy: 0.9689 - val_loss: 0.0819 - val_accuracy: 0.9772\n",
      "Epoch 3/10\n",
      "1500/1500 [==============================] - 7s 5ms/step - loss: 0.0674 - accuracy: 0.9790 - val_loss: 0.0695 - val_accuracy: 0.9789\n",
      "Epoch 4/10\n",
      "1500/1500 [==============================] - 7s 5ms/step - loss: 0.0480 - accuracy: 0.9854 - val_loss: 0.0638 - val_accuracy: 0.9804\n",
      "Epoch 5/10\n",
      "1500/1500 [==============================] - 7s 5ms/step - loss: 0.0360 - accuracy: 0.9893 - val_loss: 0.0642 - val_accuracy: 0.9809\n",
      "Epoch 6/10\n",
      "1500/1500 [==============================] - 7s 5ms/step - loss: 0.0302 - accuracy: 0.9909 - val_loss: 0.0555 - val_accuracy: 0.9836\n",
      "Epoch 7/10\n",
      "1500/1500 [==============================] - 7s 5ms/step - loss: 0.0218 - accuracy: 0.9935 - val_loss: 0.0649 - val_accuracy: 0.9814\n",
      "Epoch 8/10\n",
      "1500/1500 [==============================] - 7s 5ms/step - loss: 0.0188 - accuracy: 0.9941 - val_loss: 0.0710 - val_accuracy: 0.9804\n",
      "Epoch 9/10\n",
      "1500/1500 [==============================] - 7s 5ms/step - loss: 0.0200 - accuracy: 0.9933 - val_loss: 0.0565 - val_accuracy: 0.9849\n",
      "Epoch 10/10\n",
      "1500/1500 [==============================] - 7s 5ms/step - loss: 0.0139 - accuracy: 0.9953 - val_loss: 0.0625 - val_accuracy: 0.9836\n"
     ]
    }
   ],
   "source": [
    "model = lenet5_for_mnist()\n",
    "model.compile(optimizer='adam', loss='sparse_categorical_crossentropy', metrics=['accuracy'])\n",
    "history = model.fit(train_images, train_labels, epochs=10, batch_size=32, validation_split=0.2)\n"
   ]
  },
  {
   "cell_type": "code",
   "execution_count": 7,
   "id": "0a4cfaea",
   "metadata": {},
   "outputs": [],
   "source": [
    "model.save_weights('model_weights.h5')"
   ]
  },
  {
   "cell_type": "code",
   "execution_count": 8,
   "id": "b9279389",
   "metadata": {},
   "outputs": [],
   "source": [
    "model = lenet5_for_mnist()\n",
    "model.load_weights('model_weights.h5')"
   ]
  },
  {
   "cell_type": "code",
   "execution_count": 9,
   "id": "46a425dc",
   "metadata": {},
   "outputs": [
    {
     "name": "stdout",
     "output_type": "stream",
     "text": [
      "Test accuracy: 0.9828000068664551\n"
     ]
    }
   ],
   "source": [
    "test_predictions = model.predict(test_images)\n",
    "test_predicted_labels = tf.argmax(test_predictions, axis=1)\n",
    "\n",
    "from tensorflow.keras.metrics import Accuracy\n",
    "accuracy_metric = Accuracy()\n",
    "accuracy_metric.update_state(test_labels, test_predicted_labels)\n",
    "test_accuracy = accuracy_metric.result().numpy()\n",
    "print(f'Test accuracy: {test_accuracy}')"
   ]
  },
  {
   "cell_type": "code",
   "execution_count": 10,
   "id": "d2b3b5fe",
   "metadata": {},
   "outputs": [
    {
     "data": {
      "image/png": "[encoded data removed]",
      "text/plain": [
       "<Figure size 1500x300 with 5 Axes>"
      ]
     },
     "metadata": {},
     "output_type": "display_data"
    }
   ],
   "source": [
    "random_indices = np.random.choice(len(test_images), 5, replace=False)\n",
    "\n",
    "# 创建一个包含 5 个子图的图，每行显示 5 张图片\n",
    "fig, axes = plt.subplots(1, 5, figsize=(15, 3))\n",
    "\n",
    "for i, ax in enumerate(axes):\n",
    "    image = test_images[random_indices[i]].astype('float32').reshape(-1,28,28,1)\n",
    "    probabilities=model.predict(image)\n",
    "    predicted_label=tf.argmax(probabilities,1)\n",
    "    image=image.reshape(28,28)*255\n",
    "    ax.imshow(image, cmap='gray')\n",
    "    ax.set_title(f'Label: {predicted_label}')\n",
    "    ax.axis('off')\n",
    "plt.show()"
   ]
  },
  {
   "cell_type": "code",
   "execution_count": null,
   "id": "4f24a110",
   "metadata": {},
   "outputs": [],
   "source": []
  },
  {
   "cell_type": "code",
   "execution_count": null,
   "id": "8177ce95",
   "metadata": {},
   "outputs": [],
   "source": []
  },
  {
   "cell_type": "code",
   "execution_count": null,
   "id": "bba6ce73",
   "metadata": {},
   "outputs": [],
   "source": []
  },
  {
   "cell_type": "code",
   "execution_count": null,
   "id": "96141999",
   "metadata": {},
   "outputs": [],
   "source": []
  }
 ],
 "metadata": {
  "kernelspec": {
   "display_name": "tf2",
   "language": "python",
   "name": "tf2"
  },
  "language_info": {
   "codemirror_mode": {
    "name": "ipython",
    "version": 3
   },
   "file_extension": ".py",
   "mimetype": "text/x-python",
   "name": "python",
   "nbconvert_exporter": "python",
   "pygments_lexer": "ipython3",
   "version": "3.7.12"
  }
 },
 "nbformat": 4,
 "nbformat_minor": 5
}
